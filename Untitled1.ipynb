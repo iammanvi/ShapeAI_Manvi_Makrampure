{
  "nbformat": 4,
  "nbformat_minor": 0,
  "metadata": {
    "colab": {
      "name": "Untitled1.ipynb",
      "provenance": [],
      "authorship_tag": "ABX9TyOpecTt1bj8Jr5xD5dvauFv",
      "include_colab_link": true
    },
    "kernelspec": {
      "name": "python3",
      "display_name": "Python 3"
    },
    "language_info": {
      "name": "python"
    }
  },
  "cells": [
    {
      "cell_type": "markdown",
      "metadata": {
        "id": "view-in-github",
        "colab_type": "text"
      },
      "source": [
        "<a href=\"https://colab.research.google.com/github/iammanvi/ShapeAI_Manvi_Makrampure/blob/main/Untitled1.ipynb\" target=\"_parent\"><img src=\"https://colab.research.google.com/assets/colab-badge.svg\" alt=\"Open In Colab\"/></a>"
      ]
    },
    {
      "cell_type": "code",
      "metadata": {
        "id": "kWJC-RDvhNdD"
      },
      "source": [
        "#include <iostream>\n",
        "using namespace std;\n",
        "int main()\n",
        "{ \n",
        " int a=5,b=10;\n",
        " cout<<\"Before swap a=\"<<a<<\"b=\"<<b<<endl;\n",
        " a=a*b;//a=50(5*10)\n",
        " b=a/b://b=5(50/10)\n",
        " a=a/b;//a=10(50/5)\n",
        " count<<\"After swap a=\"<<a<<\"b=\"<<b<<endl;\n",
        " return 0;\n",
        "}"
      ],
      "execution_count": null,
      "outputs": []
    },
    {
      "cell_type": "code",
      "metadata": {
        "id": "CFfdglXziGj9"
      },
      "source": [
        "#include <iostream>\n",
        "using namespace std;\n",
        "int main()\n",
        "{\n",
        "float n1,n2,n3;\n",
        " cout<<\"enter three numbers:\";\n",
        " cin>>n1>>n2>>n3;\n",
        " if (n1 >= n2 && n1 >= n3)\n",
        " cout <<\"largest number:\" <<n1;\n",
        " if (n2 >= n1 && n2 >= n3)\n",
        " cout <<\"largest number:\" <<n2;\n",
        " if (n3 >= n1 && n3 >= n2)\n",
        " cout <<\"largest number:\" <<n3;\n",
        "  return 0;\n",
        "}   "
      ],
      "execution_count": null,
      "outputs": []
    },
    {
      "cell_type": "code",
      "metadata": {
        "id": "t_yYq4LUk8n_"
      },
      "source": [
        "#include <iostream>\n",
        "using namespace std;\n",
        "int main()\n",
        "{\n",
        " int year;\n",
        " cout << \"Enter thr year in yyy format :\";\n",
        " cin >> year ;\n",
        " if (yera % 4 == 0)\n",
        " cout << year << \"is a leap year\";\n",
        " else\n",
        " cout << year << \"is not a leap year\";\n",
        "}   "
      ],
      "execution_count": null,
      "outputs": []
    },
    {
      "cell_type": "code",
      "metadata": {
        "id": "zQoMd6Y7mjcW"
      },
      "source": [
        "#include <iostream>\n",
        "using namespace std;\n",
        "int main()\n",
        "{\n",
        " int n, t1=0, t2=1, nextTerm=0;\n",
        " cout << \"enter the numbers of terms:\";\n",
        " cin >> n;\n",
        " cout << \"Fibonacci series:\";\n",
        " for (int i=1; i<=n;++i)\n",
        " {\n",
        "  //prints the first two terms.\n",
        "  if (i==1){\n",
        "      cout << t1 <<\",\";\n",
        "      continue;\n",
        "  }\n",
        "  if (i==2){\n",
        "      cout << t2 <<\",\";\n",
        "      continue;\n",
        " }   \n",
        "  nextTerm = t1 + t2;\n",
        "  t1=t2;\n",
        "  t3 =nextTerm;\n",
        "  cout << nextTerm << \",\";\n",
        " }\n",
        " return 0;\n",
        "}"
      ],
      "execution_count": null,
      "outputs": []
    },
    {
      "cell_type": "code",
      "metadata": {
        "id": "PiWaP5bfpl6N"
      },
      "source": [
        "#include <iostream>\n",
        "using namespace std;\n",
        "int main()\n",
        "{\n",
        "    int n,i,m=0,flag=0;\n",
        " cout << \"enter the number to check prime: \":\n",
        " cin>>n;\n",
        " m=n/2;\n",
        " for(i=2;i<=m;i++)\n",
        " {\n",
        "     if(n%i==0)\n",
        "     {\n",
        "         cout<<\"Number is not prime.\"<<endl;\n",
        "      flag=1;\n",
        "      break;\n",
        "     }\n",
        " }\n",
        " if (flag==0)\n",
        " cout <<\"Number is prime.\"<<endl;\n",
        " return 0;\n",
        "}"
      ],
      "execution_count": null,
      "outputs": []
    },
    {
      "cell_type": "code",
      "metadata": {
        "id": "dSSdoOjnre5R"
      },
      "source": [
        "#include <iostream>\n",
        "using namespace std;\n",
        "void pypart (int n)\n",
        "{\n",
        "  for (int i=0; i<n; i++)\n",
        "  {\n",
        "  for (int j=0; j<=i; j++)\n",
        "  {\n",
        "  count << \"*\";    \n",
        "  }\n",
        "count << endl;\n",
        "  }\n",
        " main()\n",
        " int n =5:\n",
        " pypart (n);\n",
        " return 0;\n",
        "}"
      ],
      "execution_count": null,
      "outputs": []
    },
    {
      "cell_type": "code",
      "metadata": {
        "id": "wcAr75CxvTdh"
      },
      "source": [
        "#include <iostream>\n",
        "using namespace std;\n",
        "int main()\n",
        "{\n",
        " int n,num[50],largest,second;\n",
        " cout<<\"enter number of element:\";\n",
        " cin>>n;\n",
        " for (int i =0 ; i<n ; i++){\n",
        "     count<<\"enter array element\"<<(i+1)<<\":\";\n",
        "     cin>>num[1];\n",
        "     return 0;\n",
        " }\n",
        " \n",
        "\n",
        "\n"
      ],
      "execution_count": null,
      "outputs": []
    }
  ]
}